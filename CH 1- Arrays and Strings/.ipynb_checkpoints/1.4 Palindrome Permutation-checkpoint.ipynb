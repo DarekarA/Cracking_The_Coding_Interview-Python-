{
 "cells": [
  {
   "cell_type": "markdown",
   "id": "52cde4c3",
   "metadata": {},
   "source": [
    "### Palindrome Permutation: \n",
    "Given a string, write a function to check if it is a permutation of\n",
    "a palindrome. A palindrome is a word or phrase that is the same forwards and backwards. A\n",
    "permutation is a rearrangement of letters. The palindrome does not need to be limited to just\n",
    "dictionary words."
   ]
  },
  {
   "cell_type": "markdown",
   "id": "908b5b54",
   "metadata": {},
   "source": [
    "- This is a question where it helps to figure out what it means for a string to be a permutation of a palindrome.\n",
    "- This is like asking what the \"defining features\" of such a string would be.\n",
    "- A palindrome is a string that is the same forwards and backwards. Therefore, to decide if a string is a permutation\n",
    "  of a palindrome, we need to know if it can be written such that it's the same forwards and backwards.\n",
    "- What does it take to be able to write a set of characters the same way forwards and backwards? We need to\n",
    "  have an even number of almost all characters, so that half can be on one side and half can be on the other\n",
    "  side. At most one character (the middle character) can have an odd count.\n",
    "- For example, we know tactcoapapa is a permutation of a palindrome because it has two Ts, four As, two Cs, two Ps, and one 0. That O would be the center of all possible palindromes.\n",
    "------------------------------------------------------------------\n",
    "- To be more precise, strings with even length (after removing all non-letter characters) must have\n",
    "all even counts of characters. Strings of an odd length must have exactly one character with\n",
    "an odd count. Of course, an \"even\" string can't have an odd number of exactly one character,\n",
    "otherwise it wouldn't be an even-length string (an odd number+ many even numbers= an odd\n",
    "number). Likewise, a string with odd length can't have all characters with even counts (sum of\n",
    "evens is even). It's therefore sufficient to say that, to be a permutation ot a palindrome, a string\n",
    "can have no more than one character that is odd. This will cover both the odd and the even cas\n"
   ]
  },
  {
   "cell_type": "markdown",
   "id": "dae8bf52",
   "metadata": {},
   "source": [
    "### Solution :\n",
    "- 1st convert all letters to lower case,make sure only any other characters that a-z are elimnated.\n",
    "- Count the frequency for each letter :\n",
    "    - For even size words : All letters need to be of a even count to form a palindrome. ex:\"moom\": 'm' has 2 counts, 'o' has 2.\n",
    "    - For odd size words : Max 1 letter can be odd count, rest need to be even count. ex :\"catac\": c:2,a:2,t:1.\n",
    "        Here only 1 odd so palindrome\n",
    "    - **Therefore if >1 letter with odd counts present : Not a Palindrome, else palindrome**"
   ]
  },
  {
   "cell_type": "code",
   "execution_count": null,
   "id": "5051b0c5",
   "metadata": {},
   "outputs": [],
   "source": []
  },
  {
   "cell_type": "code",
   "execution_count": 100,
   "id": "1aa9258e",
   "metadata": {},
   "outputs": [
    {
     "name": "stdout",
     "output_type": "stream",
     "text": [
      "Counter({'m': 2, 'o': 2, 'l': 1, 'k': 1})\n",
      "Total letters with odd count : 2\n"
     ]
    },
    {
     "data": {
      "text/plain": [
       "False"
      ]
     },
     "execution_count": 100,
     "metadata": {},
     "output_type": "execute_result"
    }
   ],
   "source": [
    "from collections import Counter\n",
    "import string\n",
    "def clean(word):\n",
    "    # Convert everything to lower, and make sure only a-z pass ans any other characters are removed\n",
    "    clean_word = [i for i in word.lower() if i in string.ascii_lowercase]\n",
    "    return clean_word\n",
    "\n",
    "def pali(word):\n",
    "    clean_word = clean(word)\n",
    "    d = Counter(clean_word)\n",
    "    print(d)\n",
    "    total_odd = sum([(i%2) for i in list(d.values())]) # Sum of all odd counts of any letter\n",
    "    print(\"Total letters with odd count :\",total_odd)\n",
    "    \n",
    "    return total_odd <=1\n",
    "\n",
    "pali(\"molkom\")"
   ]
  },
  {
   "cell_type": "code",
   "execution_count": 101,
   "id": "ef66d936",
   "metadata": {},
   "outputs": [
    {
     "name": "stdout",
     "output_type": "stream",
     "text": [
      "Counter({'l': 2, 'h': 1, 'e': 1, 'o': 1})\n",
      "Total letters with odd count : 3\n"
     ]
    },
    {
     "data": {
      "text/plain": [
       "False"
      ]
     },
     "execution_count": 101,
     "metadata": {},
     "output_type": "execute_result"
    }
   ],
   "source": [
    "pali(\"Hello\")"
   ]
  },
  {
   "cell_type": "code",
   "execution_count": 102,
   "id": "ff1b05dd",
   "metadata": {},
   "outputs": [
    {
     "name": "stdout",
     "output_type": "stream",
     "text": [
      "Counter({'a': 4, 'i': 4, 'p': 4, 's': 2, 'u': 2, 'k': 2, 'v': 1})\n",
      "Total letters with odd count : 1\n"
     ]
    },
    {
     "data": {
      "text/plain": [
       "True"
      ]
     },
     "execution_count": 102,
     "metadata": {},
     "output_type": "execute_result"
    }
   ],
   "source": [
    "pali('saippuakivikauppias')"
   ]
  },
  {
   "cell_type": "code",
   "execution_count": 103,
   "id": "49e9de42",
   "metadata": {},
   "outputs": [
    {
     "name": "stdout",
     "output_type": "stream",
     "text": [
      "Counter({'w': 2, 'o': 1})\n",
      "Total letters with odd count : 1\n"
     ]
    },
    {
     "data": {
      "text/plain": [
       "True"
      ]
     },
     "execution_count": 103,
     "metadata": {},
     "output_type": "execute_result"
    }
   ],
   "source": [
    "pali('wow')"
   ]
  },
  {
   "cell_type": "code",
   "execution_count": 104,
   "id": "b1c5c702",
   "metadata": {},
   "outputs": [
    {
     "name": "stdout",
     "output_type": "stream",
     "text": [
      "Counter({'p': 9})\n",
      "Total letters with odd count : 1\n"
     ]
    },
    {
     "data": {
      "text/plain": [
       "True"
      ]
     },
     "execution_count": 104,
     "metadata": {},
     "output_type": "execute_result"
    }
   ],
   "source": [
    "pali('ppppppppp')"
   ]
  },
  {
   "cell_type": "markdown",
   "id": "2a313547",
   "metadata": {},
   "source": [
    "### MISC"
   ]
  },
  {
   "cell_type": "markdown",
   "id": "f2dd0474",
   "metadata": {},
   "source": [
    "### Uses of string Library"
   ]
  },
  {
   "cell_type": "code",
   "execution_count": 64,
   "id": "dbed4dec",
   "metadata": {},
   "outputs": [
    {
     "data": {
      "text/plain": [
       "'abcdefghijklmnopqrstuvwxyz'"
      ]
     },
     "execution_count": 64,
     "metadata": {},
     "output_type": "execute_result"
    }
   ],
   "source": [
    "import string\n",
    "string.ascii_lowercase"
   ]
  },
  {
   "cell_type": "code",
   "execution_count": 75,
   "id": "384dfa49",
   "metadata": {},
   "outputs": [
    {
     "name": "stdout",
     "output_type": "stream",
     "text": [
      "ABCDEFGHIJKLMNOPQRSTUVWXYZ\n",
      "!\"#$%&'()*+,-./:;<=>?@[\\]^_`{|}~\n",
      "0123456789\n",
      "abcdefghijklmnopqrstuvwxyzABCDEFGHIJKLMNOPQRSTUVWXYZ\n",
      "Hello I Am Abhishek\n",
      " \t\n",
      "\r",
      "\u000b",
      "\f",
      "\n",
      " \t\n",
      "\r",
      "\u000b",
      "\f",
      "\n"
     ]
    }
   ],
   "source": [
    "print(string.ascii_uppercase)\n",
    "print(string.punctuation)\n",
    "print(string.digits)\n",
    "print(string.ascii_letters)\n",
    "print(string.capwords(\"hello i am abhishek\")) # caps 1st letter\n",
    "print(string.whitespace)"
   ]
  },
  {
   "cell_type": "markdown",
   "id": "791eff48",
   "metadata": {},
   "source": [
    "## Uses of counter\n",
    "#### Works for both String and Lists"
   ]
  },
  {
   "cell_type": "code",
   "execution_count": 106,
   "id": "ad3ea262",
   "metadata": {},
   "outputs": [
    {
     "data": {
      "text/plain": [
       "Counter({'a': 1, 'b': 2, 'c': 3})"
      ]
     },
     "execution_count": 106,
     "metadata": {},
     "output_type": "execute_result"
    }
   ],
   "source": [
    "from collections import Counter # C is capital\n",
    "\n",
    "a = 'abbccc'\n",
    "cnt = Counter(a) \n",
    "cnt"
   ]
  },
  {
   "cell_type": "code",
   "execution_count": 107,
   "id": "9d1f7feb",
   "metadata": {},
   "outputs": [
    {
     "data": {
      "text/plain": [
       "Counter({'a': 1, 'b': 2, 'c': 3})"
      ]
     },
     "execution_count": 107,
     "metadata": {},
     "output_type": "execute_result"
    }
   ],
   "source": [
    "a = ['a','b','b','c','c','c']\n",
    "cnt = Counter(a) \n",
    "cnt"
   ]
  }
 ],
 "metadata": {
  "kernelspec": {
   "display_name": "Python 3 (ipykernel)",
   "language": "python",
   "name": "python3"
  },
  "language_info": {
   "codemirror_mode": {
    "name": "ipython",
    "version": 3
   },
   "file_extension": ".py",
   "mimetype": "text/x-python",
   "name": "python",
   "nbconvert_exporter": "python",
   "pygments_lexer": "ipython3",
   "version": "3.10.7"
  }
 },
 "nbformat": 4,
 "nbformat_minor": 5
}
