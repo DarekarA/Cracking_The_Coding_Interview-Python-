{
 "cells": [
  {
   "cell_type": "markdown",
   "id": "537b9a88",
   "metadata": {},
   "source": [
    "### One Away: \n",
    "There are three types of edits that can be performed on strings: insert a character,\n",
    "remove a character, or replace a character. Given two strings, write a function to check if they are\n",
    "one edit (or zero edits) away.\n",
    "EXAMPLE\n",
    "pale, ple -> true\n",
    "pales, pale -> true\n",
    "pale, bale -> true\n",
    "pale, bae -> false"
   ]
  },
  {
   "cell_type": "markdown",
   "id": "056b477d",
   "metadata": {},
   "source": [
    "- This is one of those problems where it's helpful to think about the \"meaning\" of each of these operations.\n",
    "What does it mean for two strings to be one insertion, replacement, or removal away from each other?\n",
    "\n",
    "• **Replacement** : Consider two strings, such as bale and pale, that are one replacement away. Yes, that\n",
    "does mean that you could replace a character in bale to make pale. But more precisely, it means that\n",
    "they are different only in one place.\n",
    "\n",
    "• **Insertion** : The strings apple and aple are one insertion away. This means that if you compared the\n",
    "strings, they would be identical-except for a shift at some point in the strings.\n",
    "\n",
    "• **Removal** : The strings apple and aple are also one removal away, since removal is just the inverse of\n",
    "insertion.\n",
    "\n",
    "We can go ahead and implement this algorithm now. We'll merge the insertion and removal check into one\n",
    "step, and check the replacement step separately."
   ]
  },
  {
   "cell_type": "markdown",
   "id": "43346f87",
   "metadata": {},
   "source": [
    "### My Solution :\n",
    "\n",
    "- 1st convert all letters to lower case,make sure only any other characters that a-z are elimnated.\n",
    "- **1 Replace**\n",
    "    - If lenght of both words match -> It cannot be 1 insert or 1 remove, it for sure has to be either 1 replace or none of the above operation. \n",
    "    - we add 1 whenever a letter is not matching. we can allow only 1 mismatch if 1replacement is to work.\n",
    "    - if 1 mismatch, this is case for 1 Replace, else it is none of the 3 operations.\n",
    "- **1Insert / 1Delete**\n",
    "    - Difference between Length needs to be \"1\" ONLY if it is going to be 1Insert / 1Delete.\n",
    "    - We will iterate through : len(\"smaller of the 2 strings\"). check 2nd testcase to see why not using larger string to iterate\n",
    "    - we will set to variables a and b to 0 to iterate through the strings. c to calculate mismatch between 2 strings\n",
    "        - when match found a+=1 and b+=1.\n",
    "        - when match not found a+=1,c+=1 b stays same\n",
    "        - If c <= 1, it is 1Insert / 1Delete"
   ]
  },
  {
   "cell_type": "code",
   "execution_count": null,
   "id": "c1a47b8b",
   "metadata": {},
   "outputs": [],
   "source": []
  },
  {
   "cell_type": "code",
   "execution_count": 77,
   "id": "052c4b3e",
   "metadata": {},
   "outputs": [
    {
     "name": "stdout",
     "output_type": "stream",
     "text": [
      "1 Replacement away!!!!!!!\n"
     ]
    }
   ],
   "source": [
    "import string\n",
    "\n",
    "def clean_word(word):\n",
    "    # To make sure everythin is lowercase and any characters apart from a-z are ignored\n",
    "    word = [i for i in word.lower() if i in string.ascii_lowercase]\n",
    "    return word\n",
    "\n",
    "def steps(w1 , w2):\n",
    "    w1 = clean_word(w1)\n",
    "    w2 = clean_word(w2)\n",
    "    \n",
    "    # Check for Replacement option\n",
    "    if len(w1)==len(w2): # Length needs to be same if it is going to be 1 Replace\n",
    "        tot = sum([1 for i in range(len(w1)) if w1[i]!=w2[i]]) # Take 1 whenever a letter is not matching. we can allow only 1 mismatch if 1replacement is to work.\n",
    "        if tot==1:\n",
    "            print(\"1 Replacement away!!!!!!!\")\n",
    "        else :\n",
    "            print(\"Neither of the 3 options applicable\")\n",
    "    \n",
    "    # Check for 1 Insert / 1 Delete\n",
    "    elif abs(len(w1)-len(w2))==1: #Diff betn Length needs to be \"-1\" ONLY if it is going to be 1Insert / 1Delete\n",
    "        a=b=c=0 # a: to iterate w1 , b: to iterate w2 , c to capture difference\n",
    "        for i in range(min(len(w1) , len(w2) )): # Iterate for length of smaller string (check 2nd testcase to see why not using larger string to iterate)\n",
    "            #print(a,b,c)\n",
    "            if w1[a]==w2[b]:                \n",
    "                a+=1\n",
    "                b+=1            \n",
    "            else:\n",
    "                a=a+1 # If mismatch, move on to next letter of the large string, small letter stays the same\n",
    "                c+=1\n",
    "        \n",
    "        if c<=1:\n",
    "            print(\"Insert or Delete operation applicable here\")\n",
    "        else :\n",
    "            print(\"Neither of the 3 options applicable\")\n",
    "        \n",
    "    else :\n",
    "        print(\"Waiting for this logic, stay tuned!!! Will never be implemented\")\n",
    "    \n",
    "    return\n",
    "\n",
    "steps(\"bale\" , \"pale\")"
   ]
  },
  {
   "cell_type": "code",
   "execution_count": 78,
   "id": "217bddf5",
   "metadata": {},
   "outputs": [
    {
     "name": "stdout",
     "output_type": "stream",
     "text": [
      "Insert or Delete operation applicable here\n"
     ]
    }
   ],
   "source": [
    "steps(\"pale\", \"ple\")"
   ]
  },
  {
   "cell_type": "code",
   "execution_count": 79,
   "id": "d8a15c10",
   "metadata": {},
   "outputs": [
    {
     "name": "stdout",
     "output_type": "stream",
     "text": [
      "Insert or Delete operation applicable here\n"
     ]
    }
   ],
   "source": [
    "# 2nd testcase\n",
    "steps(\"pales\", \"pale\") \n",
    "## This will cause index out of bound issue if we iterate larger string instead of smaller. at a and b=4, we will get error at w2[4](smaller string)"
   ]
  },
  {
   "cell_type": "code",
   "execution_count": 80,
   "id": "c76bb253",
   "metadata": {},
   "outputs": [
    {
     "name": "stdout",
     "output_type": "stream",
     "text": [
      "Neither of the 3 options applicable\n"
     ]
    }
   ],
   "source": [
    "steps(\"pale\", \"bae\")"
   ]
  },
  {
   "cell_type": "code",
   "execution_count": 81,
   "id": "20678ae7",
   "metadata": {},
   "outputs": [
    {
     "name": "stdout",
     "output_type": "stream",
     "text": [
      "Neither of the 3 options applicable\n"
     ]
    }
   ],
   "source": [
    "steps(\"Bela\" , \"Gale\")"
   ]
  },
  {
   "cell_type": "code",
   "execution_count": null,
   "id": "c0722db6",
   "metadata": {},
   "outputs": [],
   "source": [
    "steps(\"Bela\" , \"Gale\")"
   ]
  },
  {
   "cell_type": "code",
   "execution_count": null,
   "id": "491862af",
   "metadata": {},
   "outputs": [],
   "source": [
    "steps(\"Bela\" , \"Gale\")"
   ]
  },
  {
   "cell_type": "code",
   "execution_count": null,
   "id": "56425950",
   "metadata": {},
   "outputs": [],
   "source": []
  },
  {
   "cell_type": "code",
   "execution_count": null,
   "id": "a9bd62fa",
   "metadata": {},
   "outputs": [],
   "source": []
  },
  {
   "cell_type": "code",
   "execution_count": null,
   "id": "5257d11f",
   "metadata": {},
   "outputs": [],
   "source": []
  },
  {
   "cell_type": "code",
   "execution_count": null,
   "id": "daf198dd",
   "metadata": {},
   "outputs": [],
   "source": []
  },
  {
   "cell_type": "code",
   "execution_count": null,
   "id": "81c169d1",
   "metadata": {},
   "outputs": [],
   "source": []
  },
  {
   "cell_type": "code",
   "execution_count": null,
   "id": "1ed87920",
   "metadata": {},
   "outputs": [],
   "source": []
  }
 ],
 "metadata": {
  "kernelspec": {
   "display_name": "Python 3 (ipykernel)",
   "language": "python",
   "name": "python3"
  },
  "language_info": {
   "codemirror_mode": {
    "name": "ipython",
    "version": 3
   },
   "file_extension": ".py",
   "mimetype": "text/x-python",
   "name": "python",
   "nbconvert_exporter": "python",
   "pygments_lexer": "ipython3",
   "version": "3.10.7"
  }
 },
 "nbformat": 4,
 "nbformat_minor": 5
}
