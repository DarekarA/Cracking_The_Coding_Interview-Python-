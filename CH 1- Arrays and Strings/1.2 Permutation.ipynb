{
 "cells": [
  {
   "cell_type": "markdown",
   "metadata": {},
   "source": [
    "## Check Permutation : Given 2 strings, check if one is permutation of the other."
   ]
  },
  {
   "cell_type": "markdown",
   "metadata": {},
   "source": [
    "### Examples : true = Permutation , False=Not Permutation\n",
    "\n",
    "- (\"dog\", \"god\", True),\n",
    "- (\"abcd\", \"bacd\", True),\n",
    "- (\"3563476\", \"7334566\", True),\n",
    "- (\"wef34f\", \"wffe34\", True),\n",
    "- (\"dogx\", \"godz\", False),\n",
    "- (\"abcd\", \"d2cba\", False),\n",
    "- (\"2354\", \"1234\", False),\n",
    "- (\"dcw4f\", \"dcw5f\", False),\n",
    "- (\"DOG\", \"dog\", False),\n",
    "- (\"dog \", \"dog\", False),\n",
    "- (\"aaab\", \"bbba\", False),"
   ]
  },
  {
   "cell_type": "markdown",
   "metadata": {},
   "source": [
    "---"
   ]
  },
  {
   "cell_type": "markdown",
   "metadata": {},
   "source": [
    "## Using Sorting Method"
   ]
  },
  {
   "cell_type": "code",
   "execution_count": 19,
   "metadata": {},
   "outputs": [],
   "source": [
    "def checkper_sort(str1 , str2):\n",
    "    if len(str1)!=len(str2):\n",
    "        return \"Not Permutation\"\n",
    "    str1 = sorted(str1)\n",
    "    str2 = sorted(str2)\n",
    "    \n",
    "    for i in range(len(str1)):\n",
    "        if str1[i]!=str2[i]:\n",
    "            return \"Not Permutation\"    \n",
    "    \n",
    "    \n",
    "    return \"Permutation\""
   ]
  },
  {
   "cell_type": "code",
   "execution_count": 20,
   "metadata": {},
   "outputs": [
    {
     "data": {
      "text/plain": [
       "'Permutation'"
      ]
     },
     "execution_count": 20,
     "metadata": {},
     "output_type": "execute_result"
    }
   ],
   "source": [
    "checkper_sort(\"abcd\", \"bacd\")"
   ]
  },
  {
   "cell_type": "code",
   "execution_count": 21,
   "metadata": {},
   "outputs": [
    {
     "data": {
      "text/plain": [
       "'Permutation'"
      ]
     },
     "execution_count": 21,
     "metadata": {},
     "output_type": "execute_result"
    }
   ],
   "source": [
    "checkper_sort(\"3563476\", \"7334566\")"
   ]
  },
  {
   "cell_type": "code",
   "execution_count": 22,
   "metadata": {},
   "outputs": [
    {
     "data": {
      "text/plain": [
       "'Permutation'"
      ]
     },
     "execution_count": 22,
     "metadata": {},
     "output_type": "execute_result"
    }
   ],
   "source": [
    "checkper_sort(\"wef34f\", \"wffe34\")"
   ]
  },
  {
   "cell_type": "code",
   "execution_count": 23,
   "metadata": {},
   "outputs": [
    {
     "data": {
      "text/plain": [
       "'Not Permutation'"
      ]
     },
     "execution_count": 23,
     "metadata": {},
     "output_type": "execute_result"
    }
   ],
   "source": [
    "checkper_sort(\"dogx\", \"godz\")"
   ]
  },
  {
   "cell_type": "code",
   "execution_count": 24,
   "metadata": {},
   "outputs": [
    {
     "data": {
      "text/plain": [
       "'Not Permutation'"
      ]
     },
     "execution_count": 24,
     "metadata": {},
     "output_type": "execute_result"
    }
   ],
   "source": [
    "checkper_sort(\"abcd\", \"d2cba\")"
   ]
  },
  {
   "cell_type": "markdown",
   "metadata": {},
   "source": [
    "---"
   ]
  },
  {
   "cell_type": "markdown",
   "metadata": {},
   "source": [
    "## Using Boolean List"
   ]
  },
  {
   "cell_type": "code",
   "execution_count": 45,
   "metadata": {},
   "outputs": [],
   "source": [
    "def checkper_listbool(str1 , str2):\n",
    "    if len(str1)!=len(str2):\n",
    "        return \"Not Permutation\"\n",
    "    \n",
    "    listbool = [0]* 128 # 128 ASCII Values , Settinf count 0 for all\n",
    "    \n",
    "    for i in str1:\n",
    "        listbool[ord(i)] +=1 # increment the count by 1 when a ASCII character occurs\n",
    "        \n",
    "    for j in str2:\n",
    "        listbool[ord(j)] -=1 # Decrement count by 1 when a ASCII character is found\n",
    "        \n",
    "        # listbool[n] : Will get <0 only if str2 sees a character that is not present in str1\n",
    "        if  listbool[ord(j)] < 0:\n",
    "            return \"Not Permutation\"\n",
    "        \n",
    "    \n",
    "    return \"Permutation\""
   ]
  },
  {
   "cell_type": "code",
   "execution_count": 46,
   "metadata": {},
   "outputs": [
    {
     "data": {
      "text/plain": [
       "'Permutation'"
      ]
     },
     "execution_count": 46,
     "metadata": {},
     "output_type": "execute_result"
    }
   ],
   "source": [
    "checkper_listbool(\"abcd\", \"bacd\")"
   ]
  },
  {
   "cell_type": "code",
   "execution_count": 53,
   "metadata": {},
   "outputs": [
    {
     "data": {
      "text/plain": [
       "'Permutation'"
      ]
     },
     "execution_count": 53,
     "metadata": {},
     "output_type": "execute_result"
    }
   ],
   "source": [
    "checkper_listbool(\"wef34f\", \"wffe34\")"
   ]
  },
  {
   "cell_type": "code",
   "execution_count": 48,
   "metadata": {},
   "outputs": [
    {
     "data": {
      "text/plain": [
       "'Not Permutation'"
      ]
     },
     "execution_count": 48,
     "metadata": {},
     "output_type": "execute_result"
    }
   ],
   "source": [
    "checkper_listbool(\"dogx\", \"godz\")"
   ]
  },
  {
   "cell_type": "code",
   "execution_count": 51,
   "metadata": {},
   "outputs": [
    {
     "data": {
      "text/plain": [
       "'Not Permutation'"
      ]
     },
     "execution_count": 51,
     "metadata": {},
     "output_type": "execute_result"
    }
   ],
   "source": [
    "checkper_listbool(\"abcd\", \"d2cba\")"
   ]
  },
  {
   "cell_type": "code",
   "execution_count": null,
   "metadata": {},
   "outputs": [],
   "source": []
  }
 ],
 "metadata": {
  "kernelspec": {
   "display_name": "Python 3",
   "language": "python",
   "name": "python3"
  },
  "language_info": {
   "codemirror_mode": {
    "name": "ipython",
    "version": 3
   },
   "file_extension": ".py",
   "mimetype": "text/x-python",
   "name": "python",
   "nbconvert_exporter": "python",
   "pygments_lexer": "ipython3",
   "version": "3.7.6"
  }
 },
 "nbformat": 4,
 "nbformat_minor": 2
}
