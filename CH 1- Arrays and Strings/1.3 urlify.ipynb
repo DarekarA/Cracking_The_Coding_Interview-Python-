{
 "cells": [
  {
   "cell_type": "markdown",
   "id": "0df6aaf4",
   "metadata": {},
   "source": [
    "### String urlify : Take a string and replace the blanks with  \"%20\". We will also have a true lenght of the string, we should return only that many characters."
   ]
  },
  {
   "cell_type": "code",
   "execution_count": null,
   "id": "82fe2b7a",
   "metadata": {},
   "outputs": [],
   "source": []
  },
  {
   "cell_type": "markdown",
   "id": "88a485bf",
   "metadata": {},
   "source": [
    "### Keeping string as it is :\n",
    "- Issue : in String adding \"%20\" addes 3 charcters to 1 blank space(\" \"). We want to return only the true characters and assuming we want \"%20\" to be considered as 1 character.\n",
    "#### To solve this we are doing the second approach, converting string to a list. Now \"%20\"  will be just 1 element in the list and we can return the true length of the string."
   ]
  },
  {
   "cell_type": "code",
   "execution_count": 69,
   "id": "43d3854c",
   "metadata": {},
   "outputs": [
    {
     "name": "stdout",
     "output_type": "stream",
     "text": [
      "Hi I am Abhi 16\n",
      "Hi%20I%20am%20Abhi sent\n",
      "16\n"
     ]
    },
    {
     "data": {
      "text/plain": [
       "'Hi%20I%20am%20Ab'"
      ]
     },
     "execution_count": 69,
     "metadata": {},
     "output_type": "execute_result"
    }
   ],
   "source": [
    "def urlify(sent , true_length):\n",
    "    print(sent , true_length)\n",
    "    sent = sent.replace(\" \", \"%20\")\n",
    "    print(sent, \"sent\")\n",
    "    final = sent[:true_length]\n",
    "    print(len(final))\n",
    "    return final\n",
    "\n",
    "urlify(\"Hi I am Abhi\" , 16)"
   ]
  },
  {
   "cell_type": "code",
   "execution_count": 25,
   "id": "7d8e0908",
   "metadata": {},
   "outputs": [
    {
     "name": "stdout",
     "output_type": "stream",
     "text": [
      "a b        5\n",
      "a%20b%20%20%20%20%20%20%20 sent\n",
      "5\n"
     ]
    },
    {
     "data": {
      "text/plain": [
       "'a%20b'"
      ]
     },
     "execution_count": 25,
     "metadata": {},
     "output_type": "execute_result"
    }
   ],
   "source": [
    "urlify(\"a b       \", 5)"
   ]
  },
  {
   "cell_type": "markdown",
   "id": "c2f4d2c3",
   "metadata": {},
   "source": [
    "### Converting the String to a list"
   ]
  },
  {
   "cell_type": "code",
   "execution_count": 64,
   "id": "a6b33389",
   "metadata": {},
   "outputs": [
    {
     "name": "stdout",
     "output_type": "stream",
     "text": [
      "hello i am\n",
      "['h', 'e', 'l', 'l', 'o', ' ', 'i', ' ', 'a', 'm']\n",
      "12 a%20b%20%20%20%20%20%20%20\n",
      "['H', 'i', '%20', 'I', '%20', 'a', 'm', '%20', 'A', 'b', 'h', 'i']\n"
     ]
    },
    {
     "data": {
      "text/plain": [
       "'Hi%20I%20am%20Abhi'"
      ]
     },
     "execution_count": 64,
     "metadata": {},
     "output_type": "execute_result"
    }
   ],
   "source": [
    "a = \"hello i am\"\n",
    "print(a)\n",
    "a = list(a)\n",
    "print(a)\n",
    "\n",
    "def urlify_list(sent , true_len):\n",
    "    print(len(sent) , b)\n",
    "    sent = list(sent)\n",
    "    for i in range(len(sent)):\n",
    "        if sent[i]==\" \":\n",
    "            sent[i]='%20'\n",
    "    print(sent)\n",
    "    sent = sent[:true_len]\n",
    "    return(\"\".join(i for i in sent))\n",
    "\n",
    "urlify_list(\"Hi I am Abhi\" , 16)"
   ]
  },
  {
   "cell_type": "code",
   "execution_count": 65,
   "id": "a7191293",
   "metadata": {},
   "outputs": [
    {
     "name": "stdout",
     "output_type": "stream",
     "text": [
      "10 a%20b%20%20%20%20%20%20%20\n",
      "['a', '%20', 'b', '%20', '%20', '%20', '%20', '%20', '%20', '%20']\n"
     ]
    },
    {
     "data": {
      "text/plain": [
       "'a%20b%20%20'"
      ]
     },
     "execution_count": 65,
     "metadata": {},
     "output_type": "execute_result"
    }
   ],
   "source": [
    "urlify_list(\"a b       \", 5)"
   ]
  },
  {
   "cell_type": "code",
   "execution_count": 66,
   "id": "823e3f1c",
   "metadata": {},
   "outputs": [
    {
     "name": "stdout",
     "output_type": "stream",
     "text": [
      "11 a%20b%20%20%20%20%20%20%20\n",
      "['%20', 'a', '%20', 'b', '%20', '%20', '%20', '%20', '%20', '%20', '%20']\n"
     ]
    },
    {
     "data": {
      "text/plain": [
       "'%20a%20b%20'"
      ]
     },
     "execution_count": 66,
     "metadata": {},
     "output_type": "execute_result"
    }
   ],
   "source": [
    "urlify_list(\" a b       \", 5)"
   ]
  },
  {
   "cell_type": "code",
   "execution_count": 67,
   "id": "85139356",
   "metadata": {},
   "outputs": [
    {
     "name": "stdout",
     "output_type": "stream",
     "text": [
      "28 a%20b%20%20%20%20%20%20%20\n",
      "['m', 'u', 'c', 'h', '%20', 'a', 'd', 'o', '%20', 'a', 'b', 'o', 'u', 't', '%20', 'n', 'o', 't', 'h', 'i', 'n', 'g', '%20', '%20', '%20', '%20', '%20', '%20']\n"
     ]
    },
    {
     "data": {
      "text/plain": [
       "'much%20ado%20about%20nothing'"
      ]
     },
     "execution_count": 67,
     "metadata": {},
     "output_type": "execute_result"
    }
   ],
   "source": [
    "urlify_list(\"much ado about nothing      \", 22)"
   ]
  },
  {
   "cell_type": "code",
   "execution_count": null,
   "id": "2ba665db",
   "metadata": {},
   "outputs": [],
   "source": []
  }
 ],
 "metadata": {
  "kernelspec": {
   "display_name": "Python 3 (ipykernel)",
   "language": "python",
   "name": "python3"
  },
  "language_info": {
   "codemirror_mode": {
    "name": "ipython",
    "version": 3
   },
   "file_extension": ".py",
   "mimetype": "text/x-python",
   "name": "python",
   "nbconvert_exporter": "python",
   "pygments_lexer": "ipython3",
   "version": "3.10.7"
  }
 },
 "nbformat": 4,
 "nbformat_minor": 5
}
